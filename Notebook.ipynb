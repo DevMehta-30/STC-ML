{
 "cells": [
  {
   "cell_type": "code",
   "execution_count": 134,
   "metadata": {},
   "outputs": [
    {
     "name": "stdout",
     "output_type": "stream",
     "text": [
      "          Average\n",
      "gender           \n",
      "female  69.569498\n",
      "male    65.837483\n"
     ]
    }
   ],
   "source": [
    "import numpy as np\n",
    "import pandas as pd\n",
    "\n",
    "df= pd.read_csv(\"StudentsPerformance.csv\")\n",
    "df['Total']= df['math score'] + df['reading score'] + df['writing score']\n",
    "df['Average']=df['Total']/3\n",
    "\n",
    "print(df[[\"gender\",\"Average\"]].groupby(\"gender\").mean())"
   ]
  },
  {
   "cell_type": "code",
   "execution_count": 135,
   "metadata": {},
   "outputs": [
    {
     "name": "stdout",
     "output_type": "stream",
     "text": [
      "9.090909090909092\n"
     ]
    }
   ],
   "source": [
    "import numpy as np\n",
    "import pandas as pd\n",
    "\n",
    "df= pd.read_csv(\"StudentsPerformance.csv\")\n",
    "df1=df[df[\"parental level of education\"]==\"bachelor's degree\"]\n",
    "df2=df1[df1[\"gender\"]==\"male\"]\n",
    "n=len(df2.index)\n",
    "df3=df2[df2[\"math score\"]>80]\n",
    "df3=df3[df3[\"reading score\"]>85]\n",
    "n1=len(df3.index)\n",
    "print((n1/n)*100)"
   ]
  },
  {
   "cell_type": "code",
   "execution_count": 136,
   "metadata": {},
   "outputs": [
    {
     "name": "stdout",
     "output_type": "stream",
     "text": [
      "31\n"
     ]
    }
   ],
   "source": [
    "import numpy as np\n",
    "import pandas as pd\n",
    "\n",
    "df= pd.read_csv(\"StudentsPerformance.csv\")\n",
    "df1=df[df[\"race/ethnicity\"]==\"group E\"]\n",
    "df1=df1.loc[(df1[\"parental level of education\"]==\"high school\") | (df1[\"parental level of education\"]==\"associate's degree\")]\n",
    "df1=df1[df1[\"gender\"]==\"male\"]\n",
    "print(len(df1.index))"
   ]
  },
  {
   "cell_type": "code",
   "execution_count": 137,
   "metadata": {},
   "outputs": [
    {
     "data": {
      "text/plain": [
       "Text(0.5, 1.0, 'Maximum Math Score as per Groups')"
      ]
     },
     "execution_count": 137,
     "metadata": {},
     "output_type": "execute_result"
    },
    {
     "data": {
      "image/png": "[encoded data removed]",
      "text/plain": [
       "<Figure size 432x288 with 1 Axes>"
      ]
     },
     "metadata": {
      "needs_background": "light"
     },
     "output_type": "display_data"
    }
   ],
   "source": [
    "import numpy as np\n",
    "import pandas as pd\n",
    "import matplotlib.pyplot as plt\n",
    "\n",
    "df= pd.read_csv(\"StudentsPerformance.csv\")\n",
    "\n",
    "df1=df[[\"race/ethnicity\",\"math score\",\"reading score\",\"writing score\"]].groupby(\"race/ethnicity\").max()\n",
    "index = np.arange(len(df.groupby(\"race/ethnicity\")))\n",
    "groups=[\"group A\",\"group B\",\"group C\",\"group D\",\"group E\"]\n",
    "plt.bar(groups, df1[\"math score\"].groupby(\"race/ethnicity\").max(), color='green')\n",
    "plt.xlabel(\"race/ethnicity\")\n",
    "plt.ylabel('math score')\n",
    "plt.title(label='Maximum Math Score as per Group', \n",
    "          fontweight=10, \n",
    "          pad='2.0')"
   ]
  },
  {
   "cell_type": "code",
   "execution_count": 138,
   "metadata": {},
   "outputs": [
    {
     "data": {
      "text/plain": [
       "Text(0.5, 1.0, 'Maximum Writing Score as per Groups')"
      ]
     },
     "execution_count": 138,
     "metadata": {},
     "output_type": "execute_result"
    },
    {
     "data": {
      "image/png": "[encoded data removed]",
      "text/plain": [
       "<Figure size 432x288 with 1 Axes>"
      ]
     },
     "metadata": {
      "needs_background": "light"
     },
     "output_type": "display_data"
    }
   ],
   "source": [
    "import numpy as np\n",
    "import pandas as pd\n",
    "import matplotlib.pyplot as plt\n",
    "\n",
    "df= pd.read_csv(\"StudentsPerformance.csv\")\n",
    "\n",
    "df1=df[[\"race/ethnicity\",\"math score\",\"reading score\",\"writing score\"]].groupby(\"race/ethnicity\").max()\n",
    "index = np.arange(len(df.groupby(\"race/ethnicity\")))\n",
    "groups=[\"group A\",\"group B\",\"group C\",\"group D\",\"group E\"]\n",
    "plt.bar(groups, df1[\"writing score\"].groupby(\"race/ethnicity\").max(), color='green')\n",
    "plt.xlabel(\"race/ethnicity\")\n",
    "plt.ylabel('writing score')\n",
    "plt.title(label='Maximum Writing Score as per Groups', \n",
    "          fontweight=10, \n",
    "          pad='2.0')"
   ]
  },
  {
   "cell_type": "code",
   "execution_count": 139,
   "metadata": {},
   "outputs": [
    {
     "data": {
      "text/plain": [
       "Text(0.5, 1.0, 'Maximum Reading Score as per Groups')"
      ]
     },
     "execution_count": 139,
     "metadata": {},
     "output_type": "execute_result"
    },
    {
     "data": {
      "image/png": "[encoded data removed]",
      "text/plain": [
       "<Figure size 432x288 with 1 Axes>"
      ]
     },
     "metadata": {
      "needs_background": "light"
     },
     "output_type": "display_data"
    }
   ],
   "source": [
    "import numpy as np\n",
    "import pandas as pd\n",
    "import matplotlib.pyplot as plt\n",
    "\n",
    "df= pd.read_csv(\"StudentsPerformance.csv\")\n",
    "\n",
    "df1=df[[\"race/ethnicity\",\"math score\",\"reading score\",\"writing score\"]].groupby(\"race/ethnicity\").max()\n",
    "index = np.arange(len(df.groupby(\"race/ethnicity\")))\n",
    "groups=[\"group A\",\"group B\",\"group C\",\"group D\",\"group E\"]\n",
    "plt.bar(groups, df1[\"reading score\"].groupby(\"race/ethnicity\").max(), color='green')\n",
    "plt.xlabel(\"race/ethnicity\")\n",
    "plt.ylabel('reading score')\n",
    "plt.title(label='Maximum Reading Score as per Groups', \n",
    "          fontweight=10, \n",
    "          pad='2.0')"
   ]
  },
  {
   "cell_type": "code",
   "execution_count": 141,
   "metadata": {},
   "outputs": [
    {
     "data": {
      "text/plain": [
       "<AxesSubplot:xlabel='gender'>"
      ]
     },
     "execution_count": 141,
     "metadata": {},
     "output_type": "execute_result"
    },
    {
     "data": {
      "image/png": "[encoded data removed]",
      "text/plain": [
       "<Figure size 432x288 with 1 Axes>"
      ]
     },
     "metadata": {
      "needs_background": "light"
     },
     "output_type": "display_data"
    }
   ],
   "source": [
    "import numpy as np\n",
    "import pandas as pd\n",
    "import matplotlib.pyplot as plt\n",
    "\n",
    "df= pd.read_csv(\"StudentsPerformance.csv\")\n",
    "df1=df.groupby(['gender','test preparation course']).size()\n",
    "df1=df1.unstack()\n",
    "df1.plot(kind=\"bar\")"
   ]
  }
 ],
 "metadata": {
  "interpreter": {
   "hash": "b9c93926783d67abde613eea2ffdab1405ab94c8c3e3d7055873200113595511"
  },
  "kernelspec": {
   "display_name": "Python 3.10.1 64-bit",
   "language": "python",
   "name": "python3"
  },
  "language_info": {
   "codemirror_mode": {
    "name": "ipython",
    "version": 3
   },
   "file_extension": ".py",
   "mimetype": "text/x-python",
   "name": "python",
   "nbconvert_exporter": "python",
   "pygments_lexer": "ipython3",
   "version": "3.10.1"
  },
  "orig_nbformat": 4
 },
 "nbformat": 4,
 "nbformat_minor": 2
}
