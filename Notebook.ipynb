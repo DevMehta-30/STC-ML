{
 "cells": [
  {
   "cell_type": "code",
   "execution_count": 1,
   "metadata": {},
   "outputs": [
    {
     "name": "stdout",
     "output_type": "stream",
     "text": [
      "     gender race/ethnicity parental level of education         lunch  \\\n",
      "0    female        group B           bachelor's degree      standard   \n",
      "1    female        group C                some college      standard   \n",
      "2    female        group B             master's degree      standard   \n",
      "3      male        group A          associate's degree  free/reduced   \n",
      "4      male        group C                some college      standard   \n",
      "..      ...            ...                         ...           ...   \n",
      "995  female        group E             master's degree      standard   \n",
      "996    male        group C                 high school  free/reduced   \n",
      "997  female        group C                 high school  free/reduced   \n",
      "998  female        group D                some college      standard   \n",
      "999  female        group D                some college  free/reduced   \n",
      "\n",
      "    test preparation course  math score  reading score  writing score  Total  \\\n",
      "0                      none          72             72             74    218   \n",
      "1                 completed          69             90             88    247   \n",
      "2                      none          90             95             93    278   \n",
      "3                      none          47             57             44    148   \n",
      "4                      none          76             78             75    229   \n",
      "..                      ...         ...            ...            ...    ...   \n",
      "995               completed          88             99             95    282   \n",
      "996                    none          62             55             55    172   \n",
      "997               completed          59             71             65    195   \n",
      "998               completed          68             78             77    223   \n",
      "999                    none          77             86             86    249   \n",
      "\n",
      "       Average  \n",
      "0    72.666667  \n",
      "1    82.333333  \n",
      "2    92.666667  \n",
      "3    49.333333  \n",
      "4    76.333333  \n",
      "..         ...  \n",
      "995  94.000000  \n",
      "996  57.333333  \n",
      "997  65.000000  \n",
      "998  74.333333  \n",
      "999  83.000000  \n",
      "\n",
      "[1000 rows x 10 columns]\n",
      "          Average\n",
      "gender           \n",
      "female  69.569498\n",
      "male    65.837483\n"
     ]
    }
   ],
   "source": [
    "import numpy as np\n",
    "import pandas as pd\n",
    "\n",
    "df= pd.read_csv(\"StudentsPerformance.csv\")\n",
    "df['Total']= df['math score'] + df['reading score'] + df['writing score']\n",
    "df['Average']=df['Total']/3\n",
    "\n",
    "print(df)\n",
    "print(df[[\"gender\",\"Average\"]].groupby(\"gender\").mean())"
   ]
  }
 ],
 "metadata": {
  "interpreter": {
   "hash": "b9c93926783d67abde613eea2ffdab1405ab94c8c3e3d7055873200113595511"
  },
  "kernelspec": {
   "display_name": "Python 3.10.1 64-bit",
   "language": "python",
   "name": "python3"
  },
  "language_info": {
   "codemirror_mode": {
    "name": "ipython",
    "version": 3
   },
   "file_extension": ".py",
   "mimetype": "text/x-python",
   "name": "python",
   "nbconvert_exporter": "python",
   "pygments_lexer": "ipython3",
   "version": "3.10.1"
  },
  "orig_nbformat": 4
 },
 "nbformat": 4,
 "nbformat_minor": 2
}
